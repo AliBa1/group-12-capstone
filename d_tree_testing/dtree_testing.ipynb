{
 "cells": [
  {
   "cell_type": "code",
   "execution_count": null,
   "metadata": {},
   "outputs": [
    {
     "name": "stdout",
     "output_type": "stream",
     "text": [
      "Note: you may need to restart the kernel to use updated packages.Defaulting to user installation because normal site-packages is not writeable\n",
      "Requirement already satisfied: scikit-learn in c:\\users\\canon\\appdata\\local\\packages\\pythonsoftwarefoundation.python.3.12_qbz5n2kfra8p0\\localcache\\local-packages\\python312\\site-packages (1.5.2)\n",
      "\n"
     ]
    },
    {
     "name": "stderr",
     "output_type": "stream",
     "text": [
      "ERROR: Could not find a version that satisfies the requirement 1.6 (from versions: none)\n",
      "\n",
      "[notice] A new release of pip is available: 24.2 -> 24.3.1\n",
      "[notice] To update, run: C:\\Users\\Canon\\AppData\\Local\\Microsoft\\WindowsApps\\PythonSoftwareFoundation.Python.3.12_qbz5n2kfra8p0\\python.exe -m pip install --upgrade pip\n",
      "ERROR: No matching distribution found for 1.6\n"
     ]
    },
    {
     "ename": "ModuleNotFoundError",
     "evalue": "No module named 'sklearn.preprocessing.LabelEncoder'",
     "output_type": "error",
     "traceback": [
      "\u001b[1;31m---------------------------------------------------------------------------\u001b[0m",
      "\u001b[1;31mModuleNotFoundError\u001b[0m                       Traceback (most recent call last)",
      "Cell \u001b[1;32mIn[6], line 5\u001b[0m\n\u001b[0;32m      3\u001b[0m get_ipython()\u001b[38;5;241m.\u001b[39mrun_line_magic(\u001b[38;5;124m'\u001b[39m\u001b[38;5;124mpip\u001b[39m\u001b[38;5;124m'\u001b[39m, \u001b[38;5;124m'\u001b[39m\u001b[38;5;124minstall scikit-learn 1.6\u001b[39m\u001b[38;5;124m'\u001b[39m)\n\u001b[0;32m      4\u001b[0m \u001b[38;5;28;01mimport\u001b[39;00m \u001b[38;5;21;01mpandas\u001b[39;00m\n\u001b[1;32m----> 5\u001b[0m \u001b[38;5;28;01mimport\u001b[39;00m \u001b[38;5;21;01msklearn\u001b[39;00m\u001b[38;5;21;01m.\u001b[39;00m\u001b[38;5;21;01mpreprocessing\u001b[39;00m\u001b[38;5;21;01m.\u001b[39;00m\u001b[38;5;21;01mLabelEncoder\u001b[39;00m\n",
      "\u001b[1;31mModuleNotFoundError\u001b[0m: No module named 'sklearn.preprocessing.LabelEncoder'"
     ]
    }
   ],
   "source": [
    "folder_path = \"./\"\n",
    "file_name = \"singlefamilyhome_time_city.csv\"\n"
   ]
  },
  {
   "cell_type": "code",
   "execution_count": null,
   "metadata": {},
   "outputs": [],
   "source": [
    "%pip install scikit-learn 1.6\n",
    "%pip install pandas"
   ]
  },
  {
   "cell_type": "code",
   "execution_count": 7,
   "metadata": {},
   "outputs": [
    {
     "name": "stdout",
     "output_type": "stream",
     "text": [
      "Defaulting to user installation because normal site-packages is not writeable\n",
      "Looking in indexes: https://pypi.org/simple, https://pypi.anaconda.org/scientific-python-nightly-wheels/simple\n",
      "Requirement already satisfied: scikit-learn in c:\\users\\canon\\appdata\\local\\packages\\pythonsoftwarefoundation.python.3.12_qbz5n2kfra8p0\\localcache\\local-packages\\python312\\site-packages (1.5.2)\n",
      "Requirement already satisfied: numpy>=1.19.5 in c:\\users\\canon\\appdata\\local\\packages\\pythonsoftwarefoundation.python.3.12_qbz5n2kfra8p0\\localcache\\local-packages\\python312\\site-packages (from scikit-learn) (1.26.4)\n",
      "Requirement already satisfied: scipy>=1.6.0 in c:\\users\\canon\\appdata\\local\\packages\\pythonsoftwarefoundation.python.3.12_qbz5n2kfra8p0\\localcache\\local-packages\\python312\\site-packages (from scikit-learn) (1.14.1)\n",
      "Requirement already satisfied: joblib>=1.2.0 in c:\\users\\canon\\appdata\\local\\packages\\pythonsoftwarefoundation.python.3.12_qbz5n2kfra8p0\\localcache\\local-packages\\python312\\site-packages (from scikit-learn) (1.4.2)\n",
      "Requirement already satisfied: threadpoolctl>=3.1.0 in c:\\users\\canon\\appdata\\local\\packages\\pythonsoftwarefoundation.python.3.12_qbz5n2kfra8p0\\localcache\\local-packages\\python312\\site-packages (from scikit-learn) (3.5.0)\n",
      "Note: you may need to restart the kernel to use updated packages.\n"
     ]
    },
    {
     "name": "stderr",
     "output_type": "stream",
     "text": [
      "\n",
      "[notice] A new release of pip is available: 24.2 -> 24.3.1\n",
      "[notice] To update, run: C:\\Users\\Canon\\AppData\\Local\\Microsoft\\WindowsApps\\PythonSoftwareFoundation.Python.3.12_qbz5n2kfra8p0\\python.exe -m pip install --upgrade pip\n"
     ]
    }
   ],
   "source": [
    "%pip install --pre --extra-index https://pypi.anaconda.org/scientific-python-nightly-wheels/simple scikit-learn"
   ]
  },
  {
   "cell_type": "code",
   "execution_count": 8,
   "metadata": {},
   "outputs": [],
   "source": [
    "import pandas\n",
    "from sklearn.preprocessing import LabelEncoder\n"
   ]
  },
  {
   "cell_type": "code",
   "execution_count": 22,
   "metadata": {},
   "outputs": [
    {
     "name": "stdout",
     "output_type": "stream",
     "text": [
      "       RegionID  SizeRank   RegionName RegionType StateName State  \\\n",
      "0          6181         0     New York       city        NY    NY   \n",
      "1         12447         1  Los Angeles       city        CA    CA   \n",
      "2         39051         2      Houston       city        TX    TX   \n",
      "3         17426         3      Chicago       city        IL    IL   \n",
      "4          6915         4  San Antonio       city        TX    TX   \n",
      "...         ...       ...          ...        ...       ...   ...   \n",
      "21510     39180     30116   Jumpertown       city        MS    MS   \n",
      "21511     51728     30116   Dollar Bay       city        MI    MI   \n",
      "21512      4769     30116  Fort Howard       city        MD    MD   \n",
      "21513     25149     30116   Hoisington       city        KS    KS   \n",
      "21514     32723     30116  Martin City       city        MT    MT   \n",
      "\n",
      "                                       Metro          CountyName  \\\n",
      "0      New York-Newark-Jersey City, NY-NJ-PA       Queens County   \n",
      "1         Los Angeles-Long Beach-Anaheim, CA  Los Angeles County   \n",
      "2       Houston-The Woodlands-Sugar Land, TX       Harris County   \n",
      "3         Chicago-Naperville-Elgin, IL-IN-WI         Cook County   \n",
      "4              San Antonio-New Braunfels, TX        Bexar County   \n",
      "...                                      ...                 ...   \n",
      "21510                             Tupelo, MS     Prentiss County   \n",
      "21511                           Houghton, MI     Houghton County   \n",
      "21512          Baltimore-Columbia-Towson, MD    Baltimore County   \n",
      "21513                         Great Bend, KS       Barton County   \n",
      "21514                          Kalispell, MT     Flathead County   \n",
      "\n",
      "          2000-01-31     2000-02-29  ...    2023-12-31    2024-01-31  \\\n",
      "0      245291.080051  246606.233874  ...  7.684001e+05  7.686814e+05   \n",
      "1      227892.166403  228246.620904  ...  1.014890e+06  1.011386e+06   \n",
      "2      103203.232918  103173.234081  ...  2.695939e+05  2.698302e+05   \n",
      "3      129283.351960  129275.697389  ...  2.958333e+05  2.961796e+05   \n",
      "4       98209.210285   98301.690746  ...  2.595615e+05  2.584749e+05   \n",
      "...              ...            ...  ...           ...           ...   \n",
      "21510            NaN            NaN  ...  1.227521e+05  1.220040e+05   \n",
      "21511            NaN            NaN  ...  1.429179e+05  1.418039e+05   \n",
      "21512            NaN            NaN  ...  3.205234e+05  3.201082e+05   \n",
      "21513            NaN            NaN  ...  7.859412e+04  7.857351e+04   \n",
      "21514            NaN            NaN  ...  5.339973e+05  5.346533e+05   \n",
      "\n",
      "         2024-02-29     2024-03-31     2024-04-30     2024-05-31  \\\n",
      "0      7.706293e+05  774961.167002  780392.258765  784306.625766   \n",
      "1      1.003168e+06  995853.742073  994564.092776  995960.299851   \n",
      "2      2.703804e+05  271431.205437  272536.646766  273202.895376   \n",
      "3      2.975256e+05  300113.403071  303257.937714  305438.214395   \n",
      "4      2.579148e+05  258087.112352  258421.122169  258407.940581   \n",
      "...             ...            ...            ...            ...   \n",
      "21510  1.221030e+05  122513.605653  123530.610892  124930.773797   \n",
      "21511  1.405667e+05  140640.061828  141593.325490  142552.336167   \n",
      "21512  3.205313e+05  322055.864075  323828.561001  324756.223224   \n",
      "21513  7.838452e+04   78860.590671   79787.075991   81192.258063   \n",
      "21514  5.383897e+05  543644.741925  548826.014034  549904.888526   \n",
      "\n",
      "          2024-06-30     2024-07-31    2024-08-31    2024-09-30  \n",
      "0      784994.929545  785213.836008  7.869179e+05  7.905792e+05  \n",
      "1      996267.855482  999084.347482  1.005132e+06  1.013605e+06  \n",
      "2      273137.817124  272766.086789  2.723494e+05  2.720167e+05  \n",
      "3      306766.248095  307606.995159  3.085566e+05  3.094643e+05  \n",
      "4      258034.840909  257160.520338  2.563634e+05  2.555558e+05  \n",
      "...              ...            ...           ...           ...  \n",
      "21510  125672.742246  125472.672941  1.249325e+05  1.243136e+05  \n",
      "21511  143945.524786  144088.022362  1.437450e+05  1.423487e+05  \n",
      "21512  324180.607065  323523.381944  3.234096e+05  3.252721e+05  \n",
      "21513   82261.778670   83220.367734  8.364073e+04  8.366307e+04  \n",
      "21514  548030.256892  545117.410440  5.438745e+05  5.447832e+05  \n",
      "\n",
      "[21515 rows x 305 columns]\n"
     ]
    }
   ],
   "source": [
    "home_data = pandas.read_csv(\"singlefamilyhome_time_city.csv\")\n",
    "print(home_data)"
   ]
  },
  {
   "cell_type": "code",
   "execution_count": null,
   "metadata": {},
   "outputs": [
    {
     "name": "stdout",
     "output_type": "stream",
     "text": [
      "       RegionID  SizeRank   RegionName RegionType StateName State  \\\n",
      "0          6181         0     New York       city        NY    NY   \n",
      "1         12447         1  Los Angeles       city        CA    CA   \n",
      "2         39051         2      Houston       city        TX    TX   \n",
      "3         17426         3      Chicago       city        IL    IL   \n",
      "4          6915         4  San Antonio       city        TX    TX   \n",
      "...         ...       ...          ...        ...       ...   ...   \n",
      "21510     39180     30116   Jumpertown       city        MS    MS   \n",
      "21511     51728     30116   Dollar Bay       city        MI    MI   \n",
      "21512      4769     30116  Fort Howard       city        MD    MD   \n",
      "21513     25149     30116   Hoisington       city        KS    KS   \n",
      "21514     32723     30116  Martin City       city        MT    MT   \n",
      "\n",
      "                                       Metro          CountyName  \\\n",
      "0      New York-Newark-Jersey City, NY-NJ-PA       Queens County   \n",
      "1         Los Angeles-Long Beach-Anaheim, CA  Los Angeles County   \n",
      "2       Houston-The Woodlands-Sugar Land, TX       Harris County   \n",
      "3         Chicago-Naperville-Elgin, IL-IN-WI         Cook County   \n",
      "4              San Antonio-New Braunfels, TX        Bexar County   \n",
      "...                                      ...                 ...   \n",
      "21510                             Tupelo, MS     Prentiss County   \n",
      "21511                           Houghton, MI     Houghton County   \n",
      "21512          Baltimore-Columbia-Towson, MD    Baltimore County   \n",
      "21513                         Great Bend, KS       Barton County   \n",
      "21514                          Kalispell, MT     Flathead County   \n",
      "\n",
      "          2000-01-31     2000-02-29  ...    2023-12-31    2024-01-31  \\\n",
      "0      245291.080051  246606.233874  ...  7.684001e+05  7.686814e+05   \n",
      "1      227892.166403  228246.620904  ...  1.014890e+06  1.011386e+06   \n",
      "2      103203.232918  103173.234081  ...  2.695939e+05  2.698302e+05   \n",
      "3      129283.351960  129275.697389  ...  2.958333e+05  2.961796e+05   \n",
      "4       98209.210285   98301.690746  ...  2.595615e+05  2.584749e+05   \n",
      "...              ...            ...  ...           ...           ...   \n",
      "21510            NaN            NaN  ...  1.227521e+05  1.220040e+05   \n",
      "21511            NaN            NaN  ...  1.429179e+05  1.418039e+05   \n",
      "21512            NaN            NaN  ...  3.205234e+05  3.201082e+05   \n",
      "21513            NaN            NaN  ...  7.859412e+04  7.857351e+04   \n",
      "21514            NaN            NaN  ...  5.339973e+05  5.346533e+05   \n",
      "\n",
      "         2024-02-29     2024-03-31     2024-04-30     2024-05-31  \\\n",
      "0      7.706293e+05  774961.167002  780392.258765  784306.625766   \n",
      "1      1.003168e+06  995853.742073  994564.092776  995960.299851   \n",
      "2      2.703804e+05  271431.205437  272536.646766  273202.895376   \n",
      "3      2.975256e+05  300113.403071  303257.937714  305438.214395   \n",
      "4      2.579148e+05  258087.112352  258421.122169  258407.940581   \n",
      "...             ...            ...            ...            ...   \n",
      "21510  1.221030e+05  122513.605653  123530.610892  124930.773797   \n",
      "21511  1.405667e+05  140640.061828  141593.325490  142552.336167   \n",
      "21512  3.205313e+05  322055.864075  323828.561001  324756.223224   \n",
      "21513  7.838452e+04   78860.590671   79787.075991   81192.258063   \n",
      "21514  5.383897e+05  543644.741925  548826.014034  549904.888526   \n",
      "\n",
      "          2024-06-30     2024-07-31    2024-08-31    2024-09-30  \n",
      "0      784994.929545  785213.836008  7.869179e+05  7.905792e+05  \n",
      "1      996267.855482  999084.347482  1.005132e+06  1.013605e+06  \n",
      "2      273137.817124  272766.086789  2.723494e+05  2.720167e+05  \n",
      "3      306766.248095  307606.995159  3.085566e+05  3.094643e+05  \n",
      "4      258034.840909  257160.520338  2.563634e+05  2.555558e+05  \n",
      "...              ...            ...           ...           ...  \n",
      "21510  125672.742246  125472.672941  1.249325e+05  1.243136e+05  \n",
      "21511  143945.524786  144088.022362  1.437450e+05  1.423487e+05  \n",
      "21512  324180.607065  323523.381944  3.234096e+05  3.252721e+05  \n",
      "21513   82261.778670   83220.367734  8.364073e+04  8.366307e+04  \n",
      "21514  548030.256892  545117.410440  5.438745e+05  5.447832e+05  \n",
      "\n",
      "[21515 rows x 305 columns]\n"
     ]
    }
   ],
   "source": [
    "# Features\n",
    "# RegionID,SizeRank,RegionName,RegionType,StateName,State,Metro,CountyName\n",
    "# Target\n",
    "# 2000-01-31,2000-02-29,2000-03-31,2000-04-30,2000-05-31,2000-06-30,2000-07-31,2000-08-31, ...\n",
    "#6181,0,New York,city,NY,NY,\"New York-Newark-Jersey City, NY-NJ-PA\",Queens County,245291.08005117264,246606.23387442427,247971.2943357786,250526.64939858264,\n",
    "\n",
    "#training_features = [\"RegionID\", \"SizeRank\", \"RegionName\", \"RegionType\", \"StateName\", \"State\", \"Metro\", \"CountyName\"]\n",
    "string_features = [\"RegionName\", \"RegionType\", \"StateName\", \"State\", \"Metro\", \"CountyName\"]\n",
    "print(home_data)\n",
    "\n",
    "\n",
    "       # = le.fit_transform(home_data[feature][i])\n",
    "    \n",
    "\n",
    "#print(home_data)\n"
   ]
  }
 ],
 "metadata": {
  "kernelspec": {
   "display_name": "Python 3",
   "language": "python",
   "name": "python3"
  },
  "language_info": {
   "codemirror_mode": {
    "name": "ipython",
    "version": 3
   },
   "file_extension": ".py",
   "mimetype": "text/x-python",
   "name": "python",
   "nbconvert_exporter": "python",
   "pygments_lexer": "ipython3",
   "version": "3.12.7"
  }
 },
 "nbformat": 4,
 "nbformat_minor": 2
}
